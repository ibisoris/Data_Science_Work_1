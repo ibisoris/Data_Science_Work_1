{
 "cells": [
  {
   "cell_type": "code",
   "execution_count": 2,
   "id": "d26f38a3",
   "metadata": {},
   "outputs": [],
   "source": [
    "import pandas as pd\n",
    "A = [\"REACT\", \"MySQL\", \"PHP\", \"JSON\", \"JAVA\"]"
   ]
  },
  {
   "cell_type": "code",
   "execution_count": 3,
   "id": "a8e23333",
   "metadata": {},
   "outputs": [
    {
     "name": "stdout",
     "output_type": "stream",
     "text": [
      "0    REACT\n",
      "1    MySQL\n",
      "2      PHP\n",
      "3     JSON\n",
      "4     JAVA\n",
      "dtype: object\n"
     ]
    }
   ],
   "source": [
    "myCode = pd.Series(A)\n",
    "print(myCode)"
   ]
  },
  {
   "cell_type": "code",
   "execution_count": 5,
   "id": "54974881",
   "metadata": {},
   "outputs": [
    {
     "name": "stdout",
     "output_type": "stream",
     "text": [
      "Day1    400\n",
      "Day2    500\n",
      "Day3    600\n",
      "dtype: int64\n"
     ]
    }
   ],
   "source": [
    "import pandas as pd\n",
    "B = {\"Day1\": 400, \"Day2\": 500, \"Day3\": 600}\n",
    "myDays = pd.Series(B)\n",
    "print(myDays)"
   ]
  },
  {
   "cell_type": "code",
   "execution_count": 7,
   "id": "d1c48e49",
   "metadata": {},
   "outputs": [
    {
     "name": "stdout",
     "output_type": "stream",
     "text": [
      "  Student  Score Position Colors\n",
      "0    John    400      2nd   Blue\n",
      "1   Peter    300      3rd    Red\n",
      "2    Luke    500      1st  Green\n"
     ]
    }
   ],
   "source": [
    "import pandas as pd\n",
    "P = {\n",
    "    \"Student\":[\"John\", \"Peter\", \"Luke\"],\n",
    "    \"Score\":[400, 300, 500],\n",
    "    \"Position\":[\"2nd\", \"3rd\", \"1st\"],\n",
    "    \"Colors\":[\"Blue\", \"Red\", \"Green\"]\n",
    "}\n",
    "myStud= pd.DataFrame(P)\n",
    "print(myStud)"
   ]
  },
  {
   "cell_type": "code",
   "execution_count": 9,
   "id": "e9667c22",
   "metadata": {},
   "outputs": [
    {
     "name": "stdout",
     "output_type": "stream",
     "text": [
      "     Duration  Pulse  Maxpulse  Calories\n",
      "0          60    110       130     409.1\n",
      "1          60    117       145     479.0\n",
      "2          60    103       135     340.0\n",
      "3          45    109       175     282.4\n",
      "4          45    117       148     406.0\n",
      "..        ...    ...       ...       ...\n",
      "164        60    105       140     290.8\n",
      "165        60    110       145     300.0\n",
      "166        60    115       145     310.2\n",
      "167        75    120       150     320.4\n",
      "168        75    125       150     330.4\n",
      "\n",
      "[169 rows x 4 columns]\n"
     ]
    }
   ],
   "source": [
    "myCsv = pd.read_csv(r\"C:\\Users\\ibiso\\OneDrive\\Documents\\Countriesxyz\\data.csv\")\n",
    "print(myCsv)"
   ]
  },
  {
   "cell_type": "code",
   "execution_count": 12,
   "id": "7b2e2787",
   "metadata": {},
   "outputs": [
    {
     "name": "stdout",
     "output_type": "stream",
     "text": [
      "     Rank CCA3            Country           Capital Continent  \\\n",
      "0      36  AFG        Afghanistan             Kabul      Asia   \n",
      "1     138  ALB            Albania            Tirana    Europe   \n",
      "2      34  DZA            Algeria           Algiers    Africa   \n",
      "3     213  ASM     American Samoa         Pago Pago   Oceania   \n",
      "4     203  AND            Andorra  Andorra la Vella    Europe   \n",
      "..    ...  ...                ...               ...       ...   \n",
      "229   226  WLF  Wallis and Futuna          Mata-Utu   Oceania   \n",
      "230   172  ESH     Western Sahara         El AaiÃºn    Africa   \n",
      "231    46  YEM              Yemen             Sanaa      Asia   \n",
      "232    63  ZMB             Zambia            Lusaka    Africa   \n",
      "233    74  ZWE           Zimbabwe            Harare    Africa   \n",
      "\n",
      "     2022 Population  2020 Population  2015 Population  2010 Population  \\\n",
      "0           41128771         38972230         33753499         28189672   \n",
      "1            2842321          2866849          2882481          2913399   \n",
      "2           44903225         43451666         39543154         35856344   \n",
      "3              44273            46189            51368            54849   \n",
      "4              79824            77700            71746            71519   \n",
      "..               ...              ...              ...              ...   \n",
      "229            11572            11655            12182            13142   \n",
      "230           575986           556048           491824           413296   \n",
      "231         33696614         32284046         28516545         24743946   \n",
      "232         20017675         18927715         16248230         13792086   \n",
      "233         16320537         15669666         14154937         12839771   \n",
      "\n",
      "     2000 Population  1990 Population  1980 Population  1970 Population  \\\n",
      "0           19542982         10694796         12486631         10752971   \n",
      "1            3182021          3295066          2941651          2324731   \n",
      "2           30774621         25518074         18739378         13795915   \n",
      "3              58230            47818            32886            27075   \n",
      "4              66097            53569            35611            19860   \n",
      "..               ...              ...              ...              ...   \n",
      "229            14723            13454            11315             9377   \n",
      "230           270375           178529           116775            76371   \n",
      "231         18628700         13375121          9204938          6843607   \n",
      "232          9891136          7686401          5720438          4281671   \n",
      "233         11834676         10113893          7049926          5202918   \n",
      "\n",
      "     Area (kmÂ²)  Density (per kmÂ²)  Growth Rate  World Population Percentage  \n",
      "0         652230             63.0587       1.0257                         0.52  \n",
      "1          28748             98.8702       0.9957                         0.04  \n",
      "2        2381741             18.8531       1.0164                         0.56  \n",
      "3            199            222.4774       0.9831                         0.00  \n",
      "4            468            170.5641       1.0100                         0.00  \n",
      "..           ...                 ...          ...                          ...  \n",
      "229          142             81.4930       0.9953                         0.00  \n",
      "230       266000              2.1654       1.0184                         0.01  \n",
      "231       527968             63.8232       1.0217                         0.42  \n",
      "232       752612             26.5976       1.0280                         0.25  \n",
      "233       390757             41.7665       1.0204                         0.20  \n",
      "\n",
      "[234 rows x 17 columns]\n"
     ]
    }
   ],
   "source": [
    "myExcel = pd.read_excel(r\"C:\\Users\\ibiso\\OneDrive\\Documents\\Countriesxyz\\world_population_excel_workbook.xlsx\")\n",
    "print(myExcel)"
   ]
  },
  {
   "cell_type": "code",
   "execution_count": 13,
   "id": "eaedd21e",
   "metadata": {},
   "outputs": [
    {
     "name": "stdout",
     "output_type": "stream",
     "text": [
      "                                           12 Strong  \\\n",
      "0  {'Genre': 'Action', 'Gross': '$453,173', 'IMDB...   \n",
      "\n",
      "            A Fantastic Woman (Una Mujer Fantástica)  \\\n",
      "0  {'popcornscore': 83, 'rating': 'R', 'tomatosco...   \n",
      "\n",
      "                          All The Money In The World  \\\n",
      "0  {'popcornscore': 71, 'rating': 'R', 'tomatosco...   \n",
      "\n",
      "                          Bilal: A New Breed Of Hero  \\\n",
      "0  {'popcornscore': 91, 'rating': 'PG13', 'tomato...   \n",
      "\n",
      "                                Call Me By Your Name  \\\n",
      "0  {'popcornscore': 87, 'rating': 'R', 'tomatosco...   \n",
      "\n",
      "                                        Darkest Hour  \\\n",
      "0  {'popcornscore': 84, 'rating': 'PG13', 'tomato...   \n",
      "\n",
      "                                      Den Of Thieves  \\\n",
      "0  {'Genre': 'Action', 'Gross': '$491,898', 'IMDB...   \n",
      "\n",
      "                                           Ferdinand  \\\n",
      "0  {'popcornscore': 49, 'rating': 'PG', 'tomatosc...   \n",
      "\n",
      "                                  Fifty Shades Freed  \\\n",
      "0  {'Genre': 'Drama', 'Gross': 'unknown', 'IMDB M...   \n",
      "\n",
      "                   Film Stars Don'T Die In Liverpool  ...  \\\n",
      "0  {'popcornscore': 69, 'rating': 'R', 'tomatosco...  ...   \n",
      "\n",
      "                                  The 15:17 To Paris  \\\n",
      "0  {'Genre': 'Drama', 'Gross': 'unknown', 'IMDB M...   \n",
      "\n",
      "                                        The Commuter  \\\n",
      "0  {'popcornscore': 48, 'rating': 'PG13', 'tomato...   \n",
      "\n",
      "                                 The Disaster Artist  \\\n",
      "0  {'popcornscore': 89, 'rating': 'R', 'tomatosco...   \n",
      "\n",
      "                                The Greatest Showman  \\\n",
      "0  {'Genre': 'Biography', 'Gross': '$627,248', 'I...   \n",
      "\n",
      "                              The Insult (L'Insulte)  \\\n",
      "0  {'popcornscore': 86, 'rating': 'R', 'tomatosco...   \n",
      "\n",
      "                                            The Post  \\\n",
      "0  {'Genre': 'Biography', 'Gross': '$463,228', 'I...   \n",
      "\n",
      "                                  The Shape Of Water  \\\n",
      "0  {'Genre': 'Adventure', 'Gross': '$448,287', 'I...   \n",
      "\n",
      "           Three Billboards Outside Ebbing, Missouri  \\\n",
      "0  {'popcornscore': 87, 'rating': 'R', 'tomatosco...   \n",
      "\n",
      "                           Till The End Of The World  \\\n",
      "0  {'popcornscore': -1, 'rating': 'NR', 'tomatosc...   \n",
      "\n",
      "                                          Winchester  \n",
      "0  {'Genre': 'Biography', 'Gross': '$696,786', 'I...  \n",
      "\n",
      "[1 rows x 38 columns]\n"
     ]
    }
   ],
   "source": [
    "myJson =pd.read_json(r\"C:\\Users\\ibiso\\OneDrive\\Documents\\Countriesxyz\\json_sample.json\")\n",
    "print(myJson)"
   ]
  },
  {
   "cell_type": "code",
   "execution_count": null,
   "id": "88d05cf6",
   "metadata": {},
   "outputs": [],
   "source": []
  },
  {
   "cell_type": "code",
   "execution_count": null,
   "id": "5f394249",
   "metadata": {},
   "outputs": [],
   "source": []
  },
  {
   "cell_type": "code",
   "execution_count": null,
   "id": "8a7c8aad",
   "metadata": {},
   "outputs": [],
   "source": []
  },
  {
   "cell_type": "code",
   "execution_count": null,
   "id": "41665b5c",
   "metadata": {},
   "outputs": [],
   "source": []
  }
 ],
 "metadata": {
  "kernelspec": {
   "display_name": "Python 3 (ipykernel)",
   "language": "python",
   "name": "python3"
  },
  "language_info": {
   "codemirror_mode": {
    "name": "ipython",
    "version": 3
   },
   "file_extension": ".py",
   "mimetype": "text/x-python",
   "name": "python",
   "nbconvert_exporter": "python",
   "pygments_lexer": "ipython3",
   "version": "3.9.12"
  }
 },
 "nbformat": 4,
 "nbformat_minor": 5
}
